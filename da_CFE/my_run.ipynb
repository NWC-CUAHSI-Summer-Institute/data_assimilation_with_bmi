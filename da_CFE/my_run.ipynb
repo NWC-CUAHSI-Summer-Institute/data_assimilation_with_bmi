{
 "cells": [
  {
   "cell_type": "code",
   "execution_count": 1,
   "id": "c120e9fa-1dd8-43b5-bfd3-ddbe05a14859",
   "metadata": {
    "tags": []
   },
   "outputs": [],
   "source": [
    "#! pip install dataretrieval\n",
    "#! pip install bmipy\n",
    "#! pip install --upgrade numpy\n",
    "#! pip install hydroeval\n",
    "import sys \n",
    "import time\n",
    "import numpy as np\n",
    "import pandas as pd\n",
    "import json\n",
    "import matplotlib.pyplot as plt\n",
    "import bmi_cfe_perturb_ens\n",
    "import bmi_usgs\n",
    "from usgs import USGS\n",
    "import new_bmi_EnKF as bmi_EnKF\n",
    "import bmi_cfe\n",
    "import hydroeval as he"
   ]
  },
  {
   "cell_type": "code",
   "execution_count": 2,
   "id": "b2aa77d0-a2b7-41bb-a28a-4ca13368a389",
   "metadata": {
    "tags": []
   },
   "outputs": [],
   "source": [
    "EXPLOTMAX = 2000"
   ]
  },
  {
   "cell_type": "code",
   "execution_count": 3,
   "id": "daaa4d9e-dde4-47e3-8acd-a2b3dcafb7a9",
   "metadata": {
    "tags": []
   },
   "outputs": [],
   "source": [
    "usgs_instance = bmi_usgs.BMI_USGS()\n",
    "enkf_instance = bmi_EnKF.BMIEnKF('./input_enkf_new.json')\n",
    "cfe_purturb_instance = bmi_cfe_perturb_ens.BMI_CFE('./new_cfe_perturb.json')\n",
    "cfe_instance = bmi_cfe.BMI_CFE('./new_cfe.json')"
   ]
  },
  {
   "cell_type": "code",
   "execution_count": 4,
   "id": "e4b4fdd6-56d7-4e39-b2ff-5bccd76e76b4",
   "metadata": {
    "tags": []
   },
   "outputs": [],
   "source": [
    "#initialization\n",
    "cfe_purturb_instance.initialize()\n",
    "cfe_instance.initialize()\n",
    "enkf_instance.initialize()\n",
    "usgs_instance.initialize(cfg_file='usgs_config.json', current_time_step=1)"
   ]
  },
  {
   "cell_type": "code",
   "execution_count": 5,
   "id": "3452dd5a-e7af-44eb-b439-5572bb95c789",
   "metadata": {
    "tags": []
   },
   "outputs": [],
   "source": [
    "######bare CFE\n",
    "\n",
    "bare_cfe_all = []\n",
    "bare_states_all = []\n",
    "observations_all = []\n",
    "\n",
    "\n",
    "with open(cfe_instance.forcing_file, 'r') as f:\n",
    "    df_forcing = pd.read_csv(f)\n",
    "\n",
    "\n",
    "df_forcing_first_800 = df_forcing.head(EXPLOTMAX)    \n",
    "    \n",
    "\n",
    "for t, (precip, pet) in enumerate(df_forcing_first_800[['preci', 'pet']].values):\n",
    "    cfe_instance.set_value('atmosphere_water__time_integral_of_precipitation_mass_flux', precip)\n",
    "    pet = pet / 3600\n",
    "    cfe_instance.set_value('water_potential_evaporation_flux', pet)\n",
    "    cfe_instance.update()\n",
    "\n",
    "    simulations = cfe_instance.get_value(\"land_surface_water__runoff_volume_flux\")\n",
    "    bare_cfe_all.append(simulations)\n",
    "\n",
    "    state_variables = cfe_instance.get_value(\"SOIL_CONCEPTUAL_STORAGE\")\n",
    "    bare_states_all.append(state_variables)\n",
    "    \n",
    "    \n",
    "\n",
    "\n",
    "cfe_instance.finalize()"
   ]
  },
  {
   "cell_type": "code",
   "execution_count": 6,
   "id": "0ad7edfa-b50a-442a-90ec-ee2c264b10d9",
   "metadata": {
    "tags": []
   },
   "outputs": [
    {
     "name": "stderr",
     "output_type": "stream",
     "text": [
      "/home/jovyan/data/home/jovyan/data_assimilation/SI2023/assimilators/real_scenario-Copy3-Copy1/bmi_cfe_perturb_ens.py:835: RuntimeWarning: divide by zero encountered in log\n",
      "  perturbed_forcing = np.random.lognormal(0.5 * np.log(unperturbed_value / (error_factor_preci + 1)),       np.sqrt(np.log(error_factor_preci**2 + 1))) * unperturbed_value\n"
     ]
    },
    {
     "name": "stdout",
     "output_type": "stream",
     "text": [
      "\n",
      "GLOBAL MASS BALANCE\n",
      "  initial volume:   1.2557\n",
      "    volume input:   0.4142\n",
      "   volume output:   0.1285\n",
      "    final volume:   1.5602\n",
      "        residual: -1.8833e-02\n",
      "\n",
      "PARTITION MASS BALANCE\n",
      "    surface runoff:   0.0027\n",
      "      infiltration:   0.4115\n",
      " vol. et from rain:   0.0000\n",
      "partition residual: 1.1102e-16\n",
      "\n",
      "GIUH MASS BALANCE\n",
      "  vol. into giuh:   0.0027\n",
      "   vol. out giuh:   0.0027\n",
      " vol. end giuh q:   0.0000\n",
      "   giuh residual: 0.0000e+00\n",
      "\n",
      "SOIL WATER CONCEPTUAL RESERVOIR MASS BALANCE\n",
      "     init soil vol:   0.0000\n",
      "    vol. into soil:   0.4115\n",
      "  vol.soil2latflow:   0.0432\n",
      "   vol. soil to gw:   0.1585\n",
      " vol. et from soil:   0.0000\n",
      "   final vol. soil:   1.4813\n",
      "  vol. soil resid.: -1.2715e+00\n",
      "\n",
      "NASH CASCADE CONCEPTUAL RESERVOIR MASS BALANCE\n",
      "    vol. to nash:   0.0432\n",
      "  vol. from nash:   0.0402\n",
      " final vol. nash:   0.0030\n",
      "nash casc resid.: 2.9924e-17\n",
      "\n",
      "GROUNDWATER CONCEPTUAL RESERVOIR MASS BALANCE\n",
      "init gw. storage:   0.0000\n",
      "       vol to gw:   0.1585\n",
      "     vol from gw:   0.0826\n",
      "final gw.storage:   0.0789\n",
      "    gw. residual: -2.9739e-03\n"
     ]
    }
   ],
   "source": [
    "######real loop\n",
    "\n",
    "\n",
    "with open(cfe_purturb_instance.forcing_file, 'r') as f:\n",
    "    df_forcing = pd.read_csv(f)\n",
    "\n",
    "\n",
    "da_simulations_all = []\n",
    "da_simulations_all_mean = []\n",
    "state_variables_all = []\n",
    "state_variables_all_mean = []\n",
    "simulations_all = []\n",
    "observations_all = []\n",
    "updated_state_all = []\n",
    "updated_simulations_all = []\n",
    "gw_state_all = []\n",
    "gw_state_all_mean = []\n",
    "updated_gw_state_all = []\n",
    "\n",
    "\n",
    "\n",
    "df_forcing_first_800 = df_forcing.head(EXPLOTMAX)    \n",
    "\n",
    "for t, (precip, pet) in enumerate(df_forcing_first_800[['preci', 'pet']].values):\n",
    "\n",
    "    cfe_purturb_instance.set_value('atmosphere_water__time_integral_of_precipitation_mass_flux', precip)\n",
    "    pet = pet / 3600\n",
    "    cfe_purturb_instance.set_value('water_potential_evaporation_flux', pet)\n",
    "    cfe_purturb_instance.update()\n",
    "    simulations = cfe_purturb_instance.get_value(\"land_surface_water__runoff_volume_flux\")\n",
    "    simulationsss = np.array(list(simulations.values()))\n",
    "    da_simulations_all.append(simulationsss)\n",
    "    mean_simulations = np.mean(simulationsss)\n",
    "    da_simulations_all_mean.append(mean_simulations)\n",
    "    \n",
    "    state_variables = cfe_purturb_instance.get_value(\"SOIL_CONCEPTUAL_STORAGE\")\n",
    "    state_variablesssss = np.array(list(state_variables))\n",
    "    state_variables_all.append(state_variables)\n",
    "    state_variables_mean = np.mean(state_variablesssss)\n",
    "    state_variables_all_mean.append(state_variables_mean)\n",
    "    \n",
    "    \n",
    "#    gw_state = cfe_purturb_instance.get_value(\"DEEP_GW_TO_CHANNEL_FLUX\")\n",
    " #   gw_statesssss = np.array(list(gw_state))\n",
    "  #  gw_state_all.append(gw_state)\n",
    "   # gw_state_mean = np.mean(gw_statesssss)\n",
    "   # gw_state_all_mean.append(gw_state_mean)\n",
    "    \n",
    "\n",
    "    usgs_instance.update()\n",
    "    Flow = usgs_instance.get_value(\"Flow\")[t]\n",
    "    Flow = Flow * 0.0283168\n",
    "    observations_all.append(Flow)\n",
    "    \n",
    "    enkf_instance.initialize()\n",
    "    enkf_instance.set_value('Observations', Flow) \n",
    "    enkf_instance.set_value('Simulations', simulations)\n",
    "    enkf_instance.set_value('State Variables', state_variables)\n",
    "    enkf_instance.update()\n",
    "    updated_state_sm = enkf_instance.get_value(\"state_estimates\")\n",
    "    updated_state_all.append(updated_state_sm)\n",
    "    updated_state_sm = updated_state_sm[0]\n",
    "    \n",
    " #   enkf_instance.finalize()\n",
    "  #  enkf_instance.initialize()\n",
    "    \n",
    "    \n",
    "#    enkf_instance.set_value('Observations', Flow) \n",
    " #   enkf_instance.set_value('Simulations', simulations)\n",
    "  #  enkf_instance.set_value('State Variables', gw_state)\n",
    "   # enkf_instance.update()\n",
    "#    updated_state_gw = enkf_instance.get_value(\"state_estimates\")\n",
    " #   updated_gw_state_all.append(updated_state_gw)\n",
    "  #  updated_state_gw = updated_state_gw[0]\n",
    "    \n",
    "  #  enkf_instance.finalize()\n",
    "    \n",
    "    \n",
    "#    list_of_states_gw = [updated_state_gw] * 1000\n",
    " #   cfe_purturb_instance.set_value('DEEP_GW_TO_CHANNEL_FLUX', list_of_states_gw)\n",
    "    \n",
    "    list_of_states_sm = [updated_state_sm] * 1000\n",
    "    cfe_purturb_instance.set_value('SOIL_CONCEPTUAL_STORAGE', list_of_states_sm)\n",
    "    \n",
    "    \n",
    "cfe_purturb_instance.finalize()\n",
    "enkf_instance.finalize()\n",
    "    \n",
    "    \n"
   ]
  },
  {
   "cell_type": "code",
   "execution_count": 7,
   "id": "ca7a2e2a-a47a-4d56-9acc-28c5f3b3ffde",
   "metadata": {},
   "outputs": [],
   "source": [
    "###############Calculate quantiles\n",
    "\n",
    "\n",
    "\n",
    "da_quantile_5 = np.percentile(da_simulations_all, 5, axis=1)\n",
    "da_quantile_95 = np.percentile(da_simulations_all, 95, axis=1)\n",
    "\n",
    "\n",
    "da_quantile_15 = np.percentile(da_simulations_all, 15, axis=1)\n",
    "da_quantile_85 = np.percentile(da_simulations_all, 85, axis=1)"
   ]
  },
  {
   "cell_type": "code",
   "execution_count": 8,
   "id": "1a606064-cafb-4d5f-b85b-5d3bcce8e369",
   "metadata": {
    "tags": []
   },
   "outputs": [
    {
     "data": {
      "text/plain": [
       "[]"
      ]
     },
     "execution_count": 8,
     "metadata": {},
     "output_type": "execute_result"
    },
    {
     "data": {
      "image/png": "[encoded data removed]",
      "text/plain": [
       "<Figure size 640x480 with 1 Axes>"
      ]
     },
     "metadata": {},
     "output_type": "display_data"
    }
   ],
   "source": [
    "plt.close()\n",
    "plt.plot(da_simulations_all_mean[:EXPLOTMAX], color='blue', label='EnKF')\n",
    "plt.plot(observations_all[:EXPLOTMAX], color='black', label='Observation')\n",
    "plt.plot(bare_cfe_all[:EXPLOTMAX], color='crimson', label='CFE')\n",
    "\n",
    "\n",
    "plt.xlabel('Date')\n",
    "plt.ylabel('Q')\n",
    "plt.legend()\n",
    "plt.plot()\n",
    "#import matplotlib\n",
    "#matplotlib.use('Agg')\n",
    "#Save the plot as an image file\n",
    "#plt.savefig('mean_Q.tif', backend='Agg')"
   ]
  },
  {
   "cell_type": "code",
   "execution_count": 9,
   "id": "73a52477-10ee-4c3f-aec4-4ade2c1e215f",
   "metadata": {
    "tags": []
   },
   "outputs": [
    {
     "data": {
      "text/plain": [
       "[]"
      ]
     },
     "execution_count": 9,
     "metadata": {},
     "output_type": "execute_result"
    },
    {
     "data": {
      "image/png": "[encoded data removed]",
      "text/plain": [
       "<Figure size 640x480 with 1 Axes>"
      ]
     },
     "metadata": {},
     "output_type": "display_data"
    }
   ],
   "source": [
    "plt.close()\n",
    "plt.plot(da_quantile_5[:EXPLOTMAX], color='blue', label='EnKF Q5', linestyle='-.')\n",
    "plt.plot(da_quantile_95[:EXPLOTMAX], color='blue', label='EnKF Q95', linestyle='-.')\n",
    "#plt.plot(open_quantile_85, color='red', label='Open Loop Q85', linestyle='--')\n",
    "#plt.plot(open_quantile_15[60:100], color='red', label='Open Loop Q15', linestyle='--')\n",
    "#plt.plot(da_quantile_15[60:100], color='blue', label='DA Loop Q15', linestyle='-.')\n",
    "#plt.plot(da_quantile_85[60:100], color='blue', label='DA Loop Q85', linestyle='-.')\n",
    "plt.plot(observations_all[:EXPLOTMAX], color='black', label='Observation')\n",
    "\n",
    "\n",
    "\n",
    "\n",
    "plt.xlabel('Date')\n",
    "plt.ylabel('Q')\n",
    "plt.legend()\n",
    "plt.plot()\n",
    "#import matplotlib\n",
    "#matplotlib.use('Agg')\n",
    "# Save the plot as an image file\n",
    "#plt.savefig('synthetic_loop.tif', backend='Agg')"
   ]
  },
  {
   "cell_type": "code",
   "execution_count": 10,
   "id": "45bc25bf-fcb1-4f37-9ae2-99f8ca85a724",
   "metadata": {
    "tags": []
   },
   "outputs": [
    {
     "name": "stdout",
     "output_type": "stream",
     "text": [
      "Kling-Gupta Efficiency for DA: -1.2333484955805605\n",
      "Kling-Gupta Efficiency for CFE: 0.597346459719587\n"
     ]
    }
   ],
   "source": [
    "from hydrostats.metrics import kge_2009 as kge\n",
    "\n",
    "kge_score_DA = kge(da_simulations_all_mean[:EXPLOTMAX], observations_all[:EXPLOTMAX])\n",
    "kge_score_OL = kge(bare_cfe_all[:EXPLOTMAX], observations_all[:EXPLOTMAX])\n",
    "print(\"Kling-Gupta Efficiency for DA:\", kge_score_DA)\n",
    "print(\"Kling-Gupta Efficiency for CFE:\", kge_score_OL)\n"
   ]
  },
  {
   "cell_type": "code",
   "execution_count": 11,
   "id": "0aefd3ac-6488-48c8-8962-71ff69a0ac86",
   "metadata": {
    "tags": []
   },
   "outputs": [
    {
     "name": "stdout",
     "output_type": "stream",
     "text": [
      "NSE for DA: -5.167879783465879\n",
      "NSE for CFE: 0.2986559738391328\n"
     ]
    }
   ],
   "source": [
    "from hydrostats.metrics import nse\n",
    "\n",
    "nse_score_DA = nse(da_simulations_all_mean[:EXPLOTMAX], observations_all[:EXPLOTMAX])\n",
    "nse_score_OL = nse(bare_cfe_all[:EXPLOTMAX], observations_all[:EXPLOTMAX])\n",
    "print(\"NSE for DA:\", nse_score_DA)\n",
    "print(\"NSE for CFE:\", nse_score_OL)"
   ]
  },
  {
   "cell_type": "code",
   "execution_count": 12,
   "id": "fcb9a952-6647-4c08-8e10-35ebaa19782a",
   "metadata": {
    "tags": []
   },
   "outputs": [
    {
     "name": "stdout",
     "output_type": "stream",
     "text": [
      "RMSE for DA: 19.51124361695476\n",
      "RMSE for CFE: 6.579343369882805\n"
     ]
    }
   ],
   "source": [
    "from hydrostats.metrics import rmse\n",
    "\n",
    "rmse_score_DA = rmse(da_simulations_all_mean[:EXPLOTMAX], observations_all[:EXPLOTMAX])\n",
    "rmse_score_OL = rmse(bare_cfe_all[:EXPLOTMAX], observations_all[:EXPLOTMAX])\n",
    "print(\"RMSE for DA:\", rmse_score_DA)\n",
    "print(\"RMSE for CFE:\", rmse_score_OL)"
   ]
  },
  {
   "cell_type": "code",
   "execution_count": 13,
   "id": "f0f0a7ca-3d57-453b-9634-62223c810f52",
   "metadata": {},
   "outputs": [],
   "source": [
    "#np.save(\"real_da_all_mean_v2\", da_simulations_all_mean)"
   ]
  },
  {
   "cell_type": "code",
   "execution_count": 14,
   "id": "74edc311-c2ce-456e-9900-d19c4cffd73c",
   "metadata": {},
   "outputs": [],
   "source": [
    "#np.save(\"real_da_simulations_all_v2\", da_simulations_all)"
   ]
  },
  {
   "cell_type": "code",
   "execution_count": 15,
   "id": "ca21d736-fe4e-4adf-9008-01ddb25f0305",
   "metadata": {},
   "outputs": [],
   "source": [
    "#np.save(\"real_observation_v2\", observations_all)"
   ]
  },
  {
   "cell_type": "code",
   "execution_count": null,
   "id": "20d5575f-2edd-4517-87f9-bdc952408aec",
   "metadata": {},
   "outputs": [],
   "source": []
  },
  {
   "cell_type": "code",
   "execution_count": 16,
   "id": "d0fca7bf-4a94-422c-9e01-4b7df9a82a30",
   "metadata": {},
   "outputs": [],
   "source": [
    "#np.save(\"real_bare_cfe_all_v2\", bare_cfe_all)"
   ]
  },
  {
   "cell_type": "code",
   "execution_count": null,
   "id": "105a3eae-24d2-4c92-8df4-bc47d3726260",
   "metadata": {},
   "outputs": [],
   "source": []
  }
 ],
 "metadata": {
  "kernelspec": {
   "display_name": "Python [conda env:root] *",
   "language": "python",
   "name": "conda-root-py"
  },
  "language_info": {
   "codemirror_mode": {
    "name": "ipython",
    "version": 3
   },
   "file_extension": ".py",
   "mimetype": "text/x-python",
   "name": "python",
   "nbconvert_exporter": "python",
   "pygments_lexer": "ipython3",
   "version": "3.9.16"
  }
 },
 "nbformat": 4,
 "nbformat_minor": 5
}
