{
 "cells": [
  {
   "cell_type": "code",
   "execution_count": 1,
   "id": "ee2a1873-23fa-42ec-b2ec-ef057d53943c",
   "metadata": {
    "tags": []
   },
   "outputs": [],
   "source": [
    "#import dataretrieval.nwis as nwis\n",
    "import time\n",
    "import numpy as np\n",
    "import pandas as pd\n",
    "import json\n",
    "import matplotlib.pyplot as plt\n",
    "import bmi_usgs\n",
    "from usgs import USGS"
   ]
  },
  {
   "cell_type": "code",
   "execution_count": 2,
   "id": "1a838f0d-3a87-41f9-bbc2-b3ab38a7f2f0",
   "metadata": {
    "tags": []
   },
   "outputs": [],
   "source": [
    "import dataretrieval.nwis as nwis"
   ]
  },
  {
   "cell_type": "code",
   "execution_count": 3,
   "id": "a5942f49-498e-4997-a61a-6e003765d4a8",
   "metadata": {
    "tags": []
   },
   "outputs": [],
   "source": [
    "class U:\n",
    "    def __init__(self, dictionary):\n",
    "        for key, value in dictionary.items():\n",
    "            setattr(self, key, value)\n",
    "\n",
    "u = U({'sites' : \"05427948\", 'start' :  \"2018-10-01\", 'end' : \"2018-09-30\"})"
   ]
  },
  {
   "cell_type": "code",
   "execution_count": 4,
   "id": "7857871f-1e7e-4aa1-b463-714b1a00c01f",
   "metadata": {
    "tags": []
   },
   "outputs": [],
   "source": [
    "#df = nwis.get_record(sites=u.sites, parameterCd='00060',start=u.start, end=u.end)"
   ]
  },
  {
   "cell_type": "code",
   "execution_count": 5,
   "id": "afec9be6-a4e0-443e-987d-65e952d4e338",
   "metadata": {
    "tags": []
   },
   "outputs": [],
   "source": [
    "#df = df.select_dtypes(include=['float64', 'int64']).resample('H').mean()"
   ]
  },
  {
   "cell_type": "code",
   "execution_count": 6,
   "id": "47bea71b-d8d9-4da0-860b-84fe5672d1d0",
   "metadata": {
    "tags": []
   },
   "outputs": [],
   "source": [
    "# df.reset_index(inplace=True)                                        # reset index again to have datetime\n",
    "# df.columns = ['Date', 'Flow']"
   ]
  },
  {
   "cell_type": "code",
   "execution_count": 7,
   "id": "f09a4a53-8f4d-4097-b14b-e2726c30bf15",
   "metadata": {
    "tags": []
   },
   "outputs": [],
   "source": [
    "# df.loc[df['Flow'] >= 0, 'validity'] = 1  "
   ]
  },
  {
   "cell_type": "code",
   "execution_count": 8,
   "id": "7c7aac84-3c10-4898-b0c2-8faecf02686d",
   "metadata": {
    "tags": []
   },
   "outputs": [],
   "source": [
    "#plt.plot(df['Flow'])"
   ]
  },
  {
   "cell_type": "code",
   "execution_count": null,
   "id": "41867230-682e-42cc-83d8-e693b39ac170",
   "metadata": {},
   "outputs": [],
   "source": []
  },
  {
   "cell_type": "code",
   "execution_count": 9,
   "id": "e75aa162-22de-49d2-885b-aa8bcb921e0b",
   "metadata": {
    "tags": []
   },
   "outputs": [],
   "source": [
    "#bmi_usgs instance \n",
    "usgs_instance = bmi_usgs.BMI_USGS()# "
   ]
  },
  {
   "cell_type": "code",
   "execution_count": 10,
   "id": "e7c5103e-fd66-4e2b-846e-cdd342ae8269",
   "metadata": {
    "tags": []
   },
   "outputs": [],
   "source": [
    "#initialization\n",
    "usgs_instance.initialize(cfg_file='./usgs_config.json', current_time_step=1) #"
   ]
  },
  {
   "cell_type": "code",
   "execution_count": 11,
   "id": "80babb30-1944-419b-890d-115837879ac4",
   "metadata": {
    "tags": []
   },
   "outputs": [
    {
     "name": "stdout",
     "output_type": "stream",
     "text": [
      "{'Flow': [], 'validity': []}\n"
     ]
    }
   ],
   "source": [
    "#view output\n",
    "outputs=usgs_instance.get_output_var_names()\n",
    "output_lists = {output:[] for output in outputs}\n",
    "print(output_lists)"
   ]
  },
  {
   "cell_type": "code",
   "execution_count": 12,
   "id": "2fc6a2e7-f06e-44a9-a7bd-e32ab21a2422",
   "metadata": {
    "tags": []
   },
   "outputs": [],
   "source": [
    "# to conduct iv retrieval  from the framework activate this\n",
    "#usgs_instance.set_value('sites','01054500')\n",
    "#usgs_instance.set_value('start','2018-01-01')\n",
    "#usgs_instance.set_value('end','2018-02-01')"
   ]
  },
  {
   "cell_type": "code",
   "execution_count": 13,
   "id": "e6d2e50f-12f8-4bc7-935b-96d5bf5a10c0",
   "metadata": {
    "tags": []
   },
   "outputs": [],
   "source": [
    "# #activate this to see if inputs from the framework are read by the BMI\n",
    "# print (usgs_instance.get_value('sites'))\n",
    "# print (usgs_instance.get_value('service'))\n",
    "# print (usgs_instance.get_value('start'))"
   ]
  },
  {
   "cell_type": "code",
   "execution_count": 14,
   "id": "9019f837-d7fc-4bea-b8b8-504302abc59a",
   "metadata": {
    "tags": []
   },
   "outputs": [
    {
     "data": {
      "text/plain": [
       "<bmi_usgs.BMI_USGS at 0x7f49e019a790>"
      ]
     },
     "execution_count": 14,
     "metadata": {},
     "output_type": "execute_result"
    }
   ],
   "source": [
    "usgs_instance"
   ]
  },
  {
   "cell_type": "code",
   "execution_count": 15,
   "id": "a63e69c7-089a-4c7b-a541-73810a7f8f60",
   "metadata": {
    "tags": []
   },
   "outputs": [],
   "source": [
    "#run once\n",
    "usgs_instance.update()"
   ]
  },
  {
   "cell_type": "code",
   "execution_count": 16,
   "id": "a0847c3c-4870-4969-9f90-9ef79e14adbe",
   "metadata": {
    "tags": []
   },
   "outputs": [],
   "source": [
    "####################################################################################\n"
   ]
  },
  {
   "cell_type": "code",
   "execution_count": 17,
   "id": "182cde5b-ed97-43c7-aacc-01e36e657419",
   "metadata": {
    "tags": []
   },
   "outputs": [
    {
     "name": "stdout",
     "output_type": "stream",
     "text": [
      "\n",
      " USGS observed flow for station  01123000 is retrieved!\n",
      "\n"
     ]
    }
   ],
   "source": [
    "usgs_instance.finalize(print_flow=True)"
   ]
  },
  {
   "cell_type": "code",
   "execution_count": 18,
   "id": "91511459-bd3b-4c32-a476-6c57b5d669f7",
   "metadata": {
    "tags": []
   },
   "outputs": [
    {
     "data": {
      "text/plain": [
       "0      1.0\n",
       "1      1.0\n",
       "2      1.0\n",
       "3      1.0\n",
       "4      1.0\n",
       "      ... \n",
       "763    1.0\n",
       "764    1.0\n",
       "765    1.0\n",
       "766    1.0\n",
       "767    1.0\n",
       "Name: validity, Length: 768, dtype: float64"
      ]
     },
     "execution_count": 18,
     "metadata": {},
     "output_type": "execute_result"
    }
   ],
   "source": [
    "usgs_instance.get_value('validity')"
   ]
  },
  {
   "cell_type": "code",
   "execution_count": 20,
   "id": "cf450631-3075-4920-826f-d80d41acad20",
   "metadata": {
    "tags": []
   },
   "outputs": [
    {
     "data": {
      "text/plain": [
       "0      166.500\n",
       "1      161.000\n",
       "2      156.750\n",
       "3      151.500\n",
       "4      148.750\n",
       "        ...   \n",
       "763     28.400\n",
       "764     28.175\n",
       "765     28.400\n",
       "766     27.500\n",
       "767     27.500\n",
       "Name: Flow, Length: 768, dtype: float64"
      ]
     },
     "execution_count": 20,
     "metadata": {},
     "output_type": "execute_result"
    }
   ],
   "source": [
    "usgs_instance.get_value('Flow')"
   ]
  },
  {
   "cell_type": "code",
   "execution_count": null,
   "id": "232ebb1b-b3c9-4da4-89ae-a26f6bdb0e76",
   "metadata": {},
   "outputs": [],
   "source": []
  },
  {
   "cell_type": "code",
   "execution_count": null,
   "id": "f671e274-8550-4d5b-8dfd-c439f255805e",
   "metadata": {},
   "outputs": [],
   "source": []
  }
 ],
 "metadata": {
  "kernelspec": {
   "display_name": "Python [conda env:root] *",
   "language": "python",
   "name": "conda-root-py"
  },
  "language_info": {
   "codemirror_mode": {
    "name": "ipython",
    "version": 3
   },
   "file_extension": ".py",
   "mimetype": "text/x-python",
   "name": "python",
   "nbconvert_exporter": "python",
   "pygments_lexer": "ipython3",
   "version": "3.9.16"
  }
 },
 "nbformat": 4,
 "nbformat_minor": 5
}
