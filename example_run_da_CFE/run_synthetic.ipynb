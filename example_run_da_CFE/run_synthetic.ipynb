{
 "cells": [
  {
   "cell_type": "code",
   "execution_count": null,
   "id": "cb20887a-e424-4f76-a2df-231581316fab",
   "metadata": {
    "tags": []
   },
   "outputs": [],
   "source": [
    "#! pip install dataretrieval\n",
    "#! pip install bmipy\n",
    "#! pip install eto\n",
    "#! pip install hydrostats\n",
    "import sys \n",
    "import time\n",
    "import numpy as np\n",
    "import pandas as pd\n",
    "import json\n",
    "import matplotlib.pyplot as plt\n",
    "from scipy.stats import kstest\n",
    "import bmi_cfe_perturb_ens\n",
    "import new_bmi_EnKF as bmi_EnKF\n",
    "import bmi_cfe\n",
    "import bmi_PET\n",
    "from fao_pet import ETRCalculator"
   ]
  },
  {
   "cell_type": "code",
   "execution_count": null,
   "id": "c3767fbc-5058-4c38-a062-c35a759e8aae",
   "metadata": {
    "tags": []
   },
   "outputs": [],
   "source": [
    "#######run pet and get values\n",
    "pet_instance = bmi_PET.BMI_pet_model()\n",
    "pet_instance.initialize(cfg_file='./pet.json', current_time_step=1)\n",
    "pet_instance.update()\n",
    "pet_instance.finalize()\n",
    "pet = pet_instance.get_value('etr').values\n",
    "pet = pet / 3600"
   ]
  },
  {
   "cell_type": "code",
   "execution_count": null,
   "id": "cb1a4810-af9b-401f-8874-3d2615833077",
   "metadata": {
    "tags": []
   },
   "outputs": [],
   "source": [
    "np.sum(pet)"
   ]
  },
  {
   "cell_type": "code",
   "execution_count": null,
   "id": "c3b1aa03-9e4b-421a-897a-4b4ef60a63af",
   "metadata": {
    "tags": []
   },
   "outputs": [],
   "source": [
    "enkf_instance = bmi_EnKF.BMIEnKF('./input_enkf_new.json')\n",
    "cfe_purturb_instance_open = bmi_cfe_perturb_ens.BMI_CFE('./new_cfe_perturb.json')\n",
    "cfe_purturb_instance_synth = bmi_cfe_perturb_ens.BMI_CFE('./new_cfe_perturb.json')\n",
    "cfe_instance = bmi_cfe.BMI_CFE('./new_cfe.json')"
   ]
  },
  {
   "cell_type": "code",
   "execution_count": null,
   "id": "f81e28f6-40a2-4bf0-bb7a-23e7d63e7437",
   "metadata": {
    "tags": []
   },
   "outputs": [],
   "source": [
    "#initialization\n",
    "cfe_purturb_instance_open.initialize()\n",
    "cfe_purturb_instance_synth.initialize()\n",
    "cfe_instance.initialize()\n",
    "enkf_instance.initialize()"
   ]
  },
  {
   "cell_type": "code",
   "execution_count": null,
   "id": "4d4c60d3-bc63-478b-985d-a0bba8e1df87",
   "metadata": {
    "tags": []
   },
   "outputs": [],
   "source": [
    "### Observation data\n",
    "\n",
    "observation_no_noise = []\n",
    "state_sm_all =[]\n",
    "\n",
    "with open(cfe_instance.forcing_file, 'r') as f:\n",
    "    df_forcing = pd.read_csv(f)\n",
    "    \n",
    "for t, precip in enumerate(df_forcing['APCP_surface']):\n",
    "    precip = precip / 1000\n",
    "    cfe_instance.set_value('atmosphere_water__time_integral_of_precipitation_mass_flux', precip)\n",
    "  #  cfe_instance.set_value('water_potential_evaporation_flux', pet[t])\n",
    "    cfe_instance.update()\n",
    "    obs = cfe_instance.get_value(\"land_surface_water__runoff_volume_flux\")\n",
    "    observation_no_noise.append(obs)\n",
    "    state = cfe_instance.get_value(\"SOIL_CONCEPTUAL_STORAGE\")\n",
    "    state_sm_all.append(state)\n",
    "    \n",
    "cfe_instance.finalize()\n",
    "\n",
    "perturbation_factor_obs = np.random.standard_normal(size=None)\n",
    "error_factor_obs = 0.09\n",
    "observation_no_noise = np.array(observation_no_noise)       \n",
    "observation_noisy = (perturbation_factor_obs * observation_no_noise * error_factor_obs) + observation_no_noise\n",
    "\n",
    "\n"
   ]
  },
  {
   "cell_type": "code",
   "execution_count": null,
   "id": "3ea2d13c-7ef5-41a9-b7cd-12ccfcbcd596",
   "metadata": {
    "tags": []
   },
   "outputs": [],
   "source": [
    "######### open loop\n",
    "\n",
    "open_loop_simulations = []\n",
    "open_loop_simulations_mean = []\n",
    "ostate_variables_all_mean = []\n",
    "\n",
    "with open(cfe_purturb_instance_open.forcing_file, 'r') as f:\n",
    "    df_forcing = pd.read_csv(f)\n",
    "\n",
    "\n",
    "\n",
    "for t, precip in enumerate(df_forcing['APCP_surface']):\n",
    "    precip = precip / 1000\n",
    "    cfe_purturb_instance_open.set_value('atmosphere_water__time_integral_of_precipitation_mass_flux', precip)\n",
    "    #cfe_purturb_instance_open.set_value('water_potential_evaporation_flux', pet[t])\n",
    "    cfe_purturb_instance_open.update()\n",
    "    simulations = cfe_purturb_instance_open.get_value(\"land_surface_water__runoff_volume_flux\")\n",
    "    simulations = np.array(list(simulations.values()))\n",
    "    open_loop_simulations.append(simulations)\n",
    "    mean_simulations = np.mean(simulations)\n",
    "    open_loop_simulations_mean.append(mean_simulations)\n",
    "    \n",
    "    ostate_variables = cfe_purturb_instance_open.get_value(\"SOIL_CONCEPTUAL_STORAGE\")\n",
    "    ostate_variablesssss = np.array(list(ostate_variables))\n",
    "    ostate_variables_mean = np.mean(ostate_variablesssss)\n",
    "    ostate_variables_all_mean.append(ostate_variables_mean)\n",
    "\n",
    "cfe_purturb_instance_open.finalize()    \n"
   ]
  },
  {
   "cell_type": "code",
   "execution_count": null,
   "id": "7f8e02c2-ebcf-4da5-a9ce-5d6c76c143fc",
   "metadata": {
    "tags": []
   },
   "outputs": [],
   "source": [
    "######Synthetic loop\n",
    "\n",
    "\n",
    "with open(cfe_purturb_instance_synth.forcing_file, 'r') as f:\n",
    "    df_forcing = pd.read_csv(f)\n",
    "\n",
    "\n",
    "da_simulations_all = []\n",
    "da_simulations_all_mean = []\n",
    "state_variables_all = []\n",
    "state_variables_all_mean = []\n",
    "simulations_all = []\n",
    "observations_all = []\n",
    "updated_state_all = []\n",
    "updated_simulations_all = []\n",
    "gw_state_all = []\n",
    "gw_state_all_mean = []\n",
    "updated_gw_state_all = []\n",
    "\n",
    "\n",
    "for t, precip in enumerate(df_forcing['APCP_surface']):\n",
    "    precip = precip / 1000\n",
    "    cfe_purturb_instance_synth.set_value('atmosphere_water__time_integral_of_precipitation_mass_flux', precip)\n",
    "    cfe_purturb_instance_synth.set_value('water_potential_evaporation_flux', pet[t])\n",
    "    cfe_purturb_instance_synth.update()\n",
    "    simulations = cfe_purturb_instance_synth.get_value(\"land_surface_water__runoff_volume_flux\")\n",
    "    simulationsss = np.array(list(simulations.values()))\n",
    "    da_simulations_all.append(simulationsss)\n",
    "    mean_simulations = np.mean(simulationsss)\n",
    "    da_simulations_all_mean.append(mean_simulations)\n",
    "    \n",
    "    state_variables = cfe_purturb_instance_synth.get_value(\"SOIL_CONCEPTUAL_STORAGE\")\n",
    "    state_variablesssss = np.array(list(state_variables))\n",
    "    state_variables_all.append(state_variables)\n",
    "    state_variables_mean = np.mean(state_variablesssss)\n",
    "    state_variables_all_mean.append(state_variables_mean)\n",
    "    \n",
    " #   gw_state = cfe_purturb_instance_synth.get_value(\"DEEP_GW_TO_CHANNEL_FLUX\")\n",
    "  #  gw_statesssss = np.array(list(gw_state))\n",
    " #   gw_state_all.append(gw_state)\n",
    "  #  gw_state_mean = np.mean(gw_statesssss)\n",
    "   # gw_state_all_mean.append(gw_state_mean)\n",
    "    \n",
    "\n",
    "    Flow = observation_noisy[t]\n",
    "    observations_all.append(Flow)\n",
    "    \n",
    "    enkf_instance.initialize()\n",
    "    enkf_instance.set_value('Observations', Flow) \n",
    "    enkf_instance.set_value('Simulations', simulations)\n",
    "    enkf_instance.set_value('State Variables', state_variables)\n",
    "    enkf_instance.update()\n",
    "    updated_state_sm = enkf_instance.get_value(\"state_estimates\")\n",
    "    updated_state_all.append(updated_state_sm)\n",
    "    updated_state_sm = updated_state_sm[0]\n",
    "    \n",
    "    enkf_instance.finalize()\n",
    "    #enkf_instance.initialize()\n",
    "    \n",
    "\n",
    "#    enkf_instance.set_value('Observations', Flow) \n",
    "#    enkf_instance.set_value('Simulations', simulations)\n",
    " #   enkf_instance.set_value('State Variables', gw_state)\n",
    "  #  enkf_instance.update()\n",
    "  #  updated_state_gw = enkf_instance.get_value(\"state_estimates\")\n",
    "   # updated_gw_state_all.append(updated_state_gw)\n",
    "    #updated_state_gw = updated_state_gw[0]\n",
    "    \n",
    "   # enkf_instance.finalize()\n",
    "\n",
    "#    cfe_instance.set_value('atmosphere_water__time_integral_of_precipitation_mass_flux', precip/1000)\n",
    " #   cfe_instance.set_value('water_potential_evaporation_flux', pet[t])\n",
    "  #  cfe_instance.set_value('SOIL_CONCEPTUAL_STORAGE', updated_state_sm)\n",
    " #   cfe_instance.set_value('DEEP_GW_TO_CHANNEL_FLUX', updated_state_gw)\n",
    "  #  cfe_instance.update()\n",
    "   # simulation_updated = cfe_instance.get_value(\"land_surface_water__runoff_volume_flux\")\n",
    "  #  updated_simulations_all.append(simulation_updated)\n",
    "    \n",
    "    list_of_states_sm = [updated_state_sm] * 1000\n",
    "    cfe_purturb_instance_synth.set_value('SOIL_CONCEPTUAL_STORAGE', list_of_states_sm)\n",
    "    \n",
    "    \n",
    "#    list_of_states_gw = [updated_state_gw] * 1000\n",
    "  #  cfe_purturb_instance_synth.set_value('DEEP_GW_TO_CHANNEL_FLUX', list_of_states_gw)\n",
    "    \n",
    "cfe_purturb_instance_synth.finalize()\n",
    "enkf_instance.finalize()\n",
    "\n"
   ]
  },
  {
   "cell_type": "code",
   "execution_count": null,
   "id": "dadf942a-8618-4fb8-915d-fa4cac9568dd",
   "metadata": {
    "tags": []
   },
   "outputs": [],
   "source": [
    "###############Calculate quantiles\n",
    "\n",
    "open_quantile_5 = np.percentile(open_loop_simulations, 5, axis=1)\n",
    "open_quantile_95 = np.percentile(open_loop_simulations, 95, axis=1)\n",
    "\n",
    "da_quantile_5 = np.percentile(da_simulations_all, 5, axis=1)\n",
    "da_quantile_95 = np.percentile(da_simulations_all, 95, axis=1)\n",
    "\n",
    "\n",
    "open_quantile_15 = np.percentile(open_loop_simulations, 15, axis=1)\n",
    "open_quantile_85 = np.percentile(open_loop_simulations, 85, axis=1)\n",
    "\n",
    "da_quantile_15 = np.percentile(da_simulations_all, 15, axis=1)\n",
    "da_quantile_85 = np.percentile(da_simulations_all, 85, axis=1)"
   ]
  },
  {
   "cell_type": "code",
   "execution_count": null,
   "id": "023721e6-f40e-4418-b233-92e2f907f574",
   "metadata": {
    "tags": []
   },
   "outputs": [],
   "source": [
    "plt.close()\n",
    "plt.plot(da_simulations_all_mean, color='blue', label='EnKF')\n",
    "plt.plot(observation_noisy, color='black', label='Observation')\n",
    "plt.plot(open_loop_simulations_mean, color='red', label='no DA')\n",
    "\n",
    "plt.xlabel('Date')\n",
    "plt.ylabel('Q')\n",
    "plt.legend()\n",
    "plt.plot()\n",
    "#import matplotlib\n",
    "#matplotlib.use('Agg')\n",
    "#Save the plot as an image file\n",
    "#plt.savefig('mean_Q.tif', backend='Agg')"
   ]
  },
  {
   "cell_type": "code",
   "execution_count": null,
   "id": "c49bf685-6691-475c-b1a6-31a6f9f58347",
   "metadata": {
    "tags": []
   },
   "outputs": [],
   "source": [
    "plt.close()\n",
    "plt.plot(open_quantile_95, color='red', label='no DA Q95', linestyle='--')\n",
    "plt.plot(open_quantile_5, color='red', label='no DA Q5', linestyle='--')\n",
    "plt.plot(da_quantile_5, color='blue', label='EnKF Q5', linestyle='-.')\n",
    "plt.plot(da_quantile_95, color='blue', label='EnKF Q95', linestyle='-.')\n",
    "#plt.plot(open_quantile_85, color='red', label='Open Loop Q85', linestyle='--')\n",
    "#plt.plot(open_quantile_15[60:100], color='red', label='Open Loop Q15', linestyle='--')\n",
    "#plt.plot(da_quantile_15[60:100], color='blue', label='DA Loop Q15', linestyle='-.')\n",
    "#plt.plot(da_quantile_85[60:100], color='blue', label='DA Loop Q85', linestyle='-.')\n",
    "plt.plot(observation_noisy, color='black', label='Observation')\n",
    "\n",
    "\n",
    "\n",
    "\n",
    "plt.xlabel('Date')\n",
    "plt.ylabel('Q')\n",
    "plt.legend()\n",
    "plt.plot()\n",
    "#import matplotlib\n",
    "#matplotlib.use('Agg')\n",
    "# Save the plot as an image file\n",
    "#plt.savefig('synthetic_loop.tif', backend='Agg')"
   ]
  },
  {
   "cell_type": "code",
   "execution_count": null,
   "id": "7d56ed4b-bf7c-4ea7-832e-a024d0d6756c",
   "metadata": {
    "tags": []
   },
   "outputs": [],
   "source": [
    "from hydrostats.metrics import kge_2009 as kge\n",
    "\n",
    "kge_score_DA = kge(da_simulations_all_mean, observation_noisy)\n",
    "kge_score_OL = kge(open_loop_simulations_mean, observation_noisy)\n",
    "print(\"Kling-Gupta Efficiency for DA:\", kge_score_DA)\n",
    "print(\"Kling-Gupta Efficiency for OL:\", kge_score_OL)"
   ]
  },
  {
   "cell_type": "code",
   "execution_count": null,
   "id": "26e4ef1d-c463-491f-a84d-c70499712385",
   "metadata": {
    "tags": []
   },
   "outputs": [],
   "source": [
    "from hydrostats.metrics import nse\n",
    "\n",
    "nse_score_DA = nse(da_simulations_all_mean, observation_noisy)\n",
    "nse_score_OL = nse(open_loop_simulations_mean, observation_noisy)\n",
    "print(\"NSE for DA:\", nse_score_DA)\n",
    "print(\"NSE for OL:\", nse_score_OL)"
   ]
  },
  {
   "cell_type": "code",
   "execution_count": null,
   "id": "888887ef-2a0f-4b7b-8c1b-767bab271ba1",
   "metadata": {
    "tags": []
   },
   "outputs": [],
   "source": [
    "from hydrostats.metrics import rmse\n",
    "\n",
    "rmse_score_DA = rmse(da_simulations_all_mean, observation_noisy)\n",
    "rmse_score_OL = rmse(open_loop_simulations_mean, observation_noisy)\n",
    "print(\"RMSE for DA:\", rmse_score_DA)\n",
    "print(\"RMSE for OL:\", rmse_score_OL)"
   ]
  },
  {
   "cell_type": "code",
   "execution_count": null,
   "id": "aad92188-35a6-46de-878c-1401b588a570",
   "metadata": {},
   "outputs": [],
   "source": [
    "plt.close()\n",
    "plt.plot(state_variables_all_mean[2:], color='crimson', label='EnKF')\n",
    "plt.plot(state_sm_all[2:], color='pink', label='Observation')\n",
    "plt.plot(ostate_variables_all_mean[2:], color='blue', label='Open')\n",
    "plt.show()\n",
    "#plt.plot(updated_state_all[1:])"
   ]
  },
  {
   "cell_type": "code",
   "execution_count": null,
   "id": "da56fbfa-83cb-40bb-b314-1d2855f29173",
   "metadata": {},
   "outputs": [],
   "source": []
  },
  {
   "cell_type": "code",
   "execution_count": null,
   "id": "362c5fe3-c4a9-4d89-bcd6-3e5029525e80",
   "metadata": {},
   "outputs": [],
   "source": []
  },
  {
   "cell_type": "code",
   "execution_count": null,
   "id": "d776217e-57ac-4e80-b6ea-b0012a46b073",
   "metadata": {
    "tags": []
   },
   "outputs": [],
   "source": [
    "np.save(\"syn_open_loop_simulations\", open_loop_simulations)"
   ]
  },
  {
   "cell_type": "code",
   "execution_count": null,
   "id": "a60c81f7-d6e4-418a-98fc-d94728655b28",
   "metadata": {
    "tags": []
   },
   "outputs": [],
   "source": [
    "np.save(\"syn_da_simulations_all\", da_simulations_all)\n"
   ]
  },
  {
   "cell_type": "code",
   "execution_count": null,
   "id": "433e0587-772e-4219-b400-64446ba1d183",
   "metadata": {
    "tags": []
   },
   "outputs": [],
   "source": [
    "np.save(\"syn_da_simulations_all_mean\", da_simulations_all_mean)\n"
   ]
  },
  {
   "cell_type": "code",
   "execution_count": null,
   "id": "b7b850d5-bd78-47fe-aeb4-d40db146d73a",
   "metadata": {
    "tags": []
   },
   "outputs": [],
   "source": [
    "np.save(\"syn_observation_noisy\", observation_noisy)\n"
   ]
  },
  {
   "cell_type": "code",
   "execution_count": null,
   "id": "6456f95f-513b-4334-9486-388342ff7bae",
   "metadata": {
    "tags": []
   },
   "outputs": [],
   "source": [
    "np.save(\"syn_open_loop_simulations_mean\", open_loop_simulations_mean)\n"
   ]
  },
  {
   "cell_type": "code",
   "execution_count": null,
   "id": "9b09d5fc-28de-49d4-9776-6cd9c9c67d1e",
   "metadata": {},
   "outputs": [],
   "source": [
    "ostate_variables_all_mean"
   ]
  },
  {
   "cell_type": "code",
   "execution_count": null,
   "id": "d7a8d739-3bd0-4767-a411-f8e104e82392",
   "metadata": {},
   "outputs": [],
   "source": []
  }
 ],
 "metadata": {
  "kernelspec": {
   "display_name": "Python [conda env:root] *",
   "language": "python",
   "name": "conda-root-py"
  },
  "language_info": {
   "codemirror_mode": {
    "name": "ipython",
    "version": 3
   },
   "file_extension": ".py",
   "mimetype": "text/x-python",
   "name": "python",
   "nbconvert_exporter": "python",
   "pygments_lexer": "ipython3",
   "version": "3.9.16"
  }
 },
 "nbformat": 4,
 "nbformat_minor": 5
}
