{
 "cells": [
  {
   "cell_type": "code",
   "execution_count": 1,
   "id": "8956f120-6cc1-474c-88f7-2bd868c1c726",
   "metadata": {
    "tags": []
   },
   "outputs": [],
   "source": [
    "#! pip install bmipy\n",
    "#! pip install eto\n",
    "import sys \n",
    "import time\n",
    "import numpy as np\n",
    "import pandas as pd\n",
    "import json\n",
    "import matplotlib.pyplot as plt\n",
    "import bmi_cfe_perturb_ens\n",
    "import bmi_pf\n",
    "import bmi_cfe\n",
    "import bmi_PET\n",
    "from fao_pet import ETRCalculator"
   ]
  },
  {
   "cell_type": "code",
   "execution_count": 2,
   "id": "8bf7c5f2-a1a7-46ac-a569-ca1661202411",
   "metadata": {
    "tags": []
   },
   "outputs": [],
   "source": [
    "pet_instance = bmi_PET.BMI_pet_model()\n",
    "pet_instance.initialize(cfg_file='./pet.json', current_time_step=1)\n",
    "pet_instance.update()\n",
    "pet_instance.finalize()\n",
    "pet = pet_instance.get_value('etr').values"
   ]
  },
  {
   "cell_type": "code",
   "execution_count": 3,
   "id": "978812da-d61b-42c7-9fca-d3c5c6a26d21",
   "metadata": {
    "tags": []
   },
   "outputs": [
    {
     "ename": "AttributeError",
     "evalue": "'particle_filter_bmi' object has no attribute 'simulations'",
     "output_type": "error",
     "traceback": [
      "\u001b[0;31m---------------------------------------------------------------------------\u001b[0m",
      "\u001b[0;31mAttributeError\u001b[0m                            Traceback (most recent call last)",
      "Cell \u001b[0;32mIn[3], line 1\u001b[0m\n\u001b[0;32m----> 1\u001b[0m enkf_instance \u001b[38;5;241m=\u001b[39m \u001b[43mbmi_pf\u001b[49m\u001b[38;5;241;43m.\u001b[39;49m\u001b[43mparticle_filter_bmi\u001b[49m\u001b[43m(\u001b[49m\u001b[38;5;124;43m'\u001b[39;49m\u001b[38;5;124;43m./pf.json\u001b[39;49m\u001b[38;5;124;43m'\u001b[39;49m\u001b[43m)\u001b[49m\n\u001b[1;32m      2\u001b[0m cfe_purturb_instance \u001b[38;5;241m=\u001b[39m bmi_cfe_perturb_ens\u001b[38;5;241m.\u001b[39mBMI_CFE(\u001b[38;5;124m'\u001b[39m\u001b[38;5;124m./new_cfe_perturb.json\u001b[39m\u001b[38;5;124m'\u001b[39m)\n\u001b[1;32m      3\u001b[0m cfe_instance \u001b[38;5;241m=\u001b[39m bmi_cfe\u001b[38;5;241m.\u001b[39mBMI_CFE(\u001b[38;5;124m'\u001b[39m\u001b[38;5;124m./new_cfe.json\u001b[39m\u001b[38;5;124m'\u001b[39m)\n",
      "File \u001b[0;32m~/home/jovyan/data_assimilation/SI2023/assimilators/synthetic/bmi_pf.py:20\u001b[0m, in \u001b[0;36mparticle_filter_bmi.__init__\u001b[0;34m(self, json_file)\u001b[0m\n\u001b[1;32m     18\u001b[0m      \u001b[38;5;28mself\u001b[39m\u001b[38;5;241m.\u001b[39moutputs \u001b[38;5;241m=\u001b[39m np\u001b[38;5;241m.\u001b[39mzeros((\u001b[38;5;28mself\u001b[39m\u001b[38;5;241m.\u001b[39mn))\n\u001b[1;32m     19\u001b[0m \u001b[38;5;66;03m#     self.simulations = np.zeros((self.m, self.N))\u001b[39;00m\n\u001b[0;32m---> 20\u001b[0m      \u001b[38;5;28mself\u001b[39m\u001b[38;5;241m.\u001b[39mpf \u001b[38;5;241m=\u001b[39m particle_filter(\u001b[38;5;28mself\u001b[39m\u001b[38;5;241m.\u001b[39mN, \u001b[38;5;28mself\u001b[39m\u001b[38;5;241m.\u001b[39mn, \u001b[38;5;28mself\u001b[39m\u001b[38;5;241m.\u001b[39mm, \u001b[38;5;28mself\u001b[39m\u001b[38;5;241m.\u001b[39msmcmax, \u001b[38;5;28mself\u001b[39m\u001b[38;5;241m.\u001b[39mD, \u001b[38;5;28;43mself\u001b[39;49m\u001b[38;5;241;43m.\u001b[39;49m\u001b[43msimulations\u001b[49m)\n\u001b[1;32m     21\u001b[0m      \u001b[38;5;28mself\u001b[39m\u001b[38;5;241m.\u001b[39mstate_estimates \u001b[38;5;241m=\u001b[39m np\u001b[38;5;241m.\u001b[39mzeros((\u001b[38;5;28mself\u001b[39m\u001b[38;5;241m.\u001b[39mn))\n\u001b[1;32m     22\u001b[0m      \u001b[38;5;28mself\u001b[39m\u001b[38;5;241m.\u001b[39mobservation \u001b[38;5;241m=\u001b[39m np\u001b[38;5;241m.\u001b[39mzeros((\u001b[38;5;28mself\u001b[39m\u001b[38;5;241m.\u001b[39mn))\n",
      "\u001b[0;31mAttributeError\u001b[0m: 'particle_filter_bmi' object has no attribute 'simulations'"
     ]
    }
   ],
   "source": [
    "enkf_instance = bmi_pf.particle_filter_bmi('./pf.json')\n",
    "cfe_purturb_instance = bmi_cfe_perturb_ens.BMI_CFE('./new_cfe_perturb.json')\n",
    "cfe_instance = bmi_cfe.BMI_CFE('./new_cfe.json')"
   ]
  },
  {
   "cell_type": "code",
   "execution_count": null,
   "id": "a9e47055-8e4d-4a3d-809f-16e01d568011",
   "metadata": {
    "tags": []
   },
   "outputs": [],
   "source": [
    "#initialization\n",
    "cfe_purturb_instance.initialize()\n",
    "cfe_instance.initialize()\n",
    "enkf_instance.initialize()"
   ]
  },
  {
   "cell_type": "code",
   "execution_count": null,
   "id": "27f403fd-9791-43d0-8e53-4e2214f83a2a",
   "metadata": {
    "tags": []
   },
   "outputs": [],
   "source": [
    "cfe_purturb_inputs = cfe_purturb_instance.get_input_var_names()\n",
    "input_lists_cfe_purturb = {inputs:{ens:[] for ens in range(0)} for inputs in cfe_purturb_inputs}\n",
    "print(\"CFE Perturbed code inputs are:\", input_lists_cfe_purturb)\n",
    "\n",
    "cfe_inputs = cfe_instance.get_input_var_names()\n",
    "input_lists_cfe = {inputs:{ens:[] for ens in range(0)} for inputs in cfe_inputs}\n",
    "print(\"CFE code inputs are:\", input_lists_cfe)\n",
    "\n",
    "enkf_inputs = enkf_instance.get_input_var_names()\n",
    "input_lists_enkf = {inputs:{ens:[] for ens in range(0)} for inputs in enkf_inputs}\n",
    "print(\"EnKF code inputs are:\", input_lists_enkf)\n",
    "\n",
    "\n",
    "cfe_purturb_outputs = cfe_purturb_instance.get_output_var_names()\n",
    "output_lists_cfe_purturb = {output:{ens:[] for ens in range(0)} for output in cfe_purturb_outputs}\n",
    "print(\"CFE Perturbed code outputs are:\", output_lists_cfe_purturb)\n",
    "\n",
    "\n",
    "cfe_outputs = cfe_instance.get_output_var_names()\n",
    "output_lists_cfe = {output:{ens:[] for ens in range(0)} for output in cfe_outputs}\n",
    "print(\"CFE code outputs are:\", output_lists_cfe)\n",
    "\n",
    "enkf_outputs = enkf_instance.get_output_var_names()\n",
    "output_lists_enkf = {output:{ens:[] for ens in range(0)} for output in enkf_outputs}\n",
    "print(\"EnKF code outputs are:\", output_lists_enkf)"
   ]
  },
  {
   "cell_type": "code",
   "execution_count": null,
   "id": "6cedde09-76d3-44eb-af5c-1d5e3bebe753",
   "metadata": {
    "tags": []
   },
   "outputs": [],
   "source": [
    "cfe_purturb_outputs = cfe_purturb_instance.get_output_var_names()\n",
    "output_lists_cfe_purturb = {output:{ens:[] for ens in range(cfe_purturb_instance.n_cfe_ensembles)} for output in cfe_outputs}\n",
    "\n",
    "cfe_outputs = cfe_instance.get_output_var_names()\n",
    "output_lists_cfe = {output:{ens:[] for ens in range(cfe_purturb_instance.n_cfe_ensembles)} for output in cfe_outputs}\n",
    "\n",
    "enkf_outputs = enkf_instance.get_output_var_names()\n",
    "output_lists_enkf = {output:{ens:[] for ens in range(cfe_purturb_instance.n_cfe_ensembles)} for output in enkf_outputs}"
   ]
  },
  {
   "cell_type": "code",
   "execution_count": null,
   "id": "dc030590-e5c8-49a6-9806-83e3eaa00087",
   "metadata": {
    "tags": []
   },
   "outputs": [],
   "source": [
    "### Observation data\n",
    "\n",
    "observation_no_noise = []\n",
    "\n",
    "\n",
    "with open(cfe_instance.forcing_file, 'r') as f:\n",
    "    df_forcing = pd.read_csv(f)\n",
    "    \n",
    "for t, precip in enumerate(df_forcing['APCP_surface']):\n",
    "    cfe_instance.set_value('atmosphere_water__time_integral_of_precipitation_mass_flux', precip)\n",
    "    cfe_instance.set_value('water_potential_evaporation_flux', pet[t])\n",
    "    cfe_instance.update()\n",
    "    obs = cfe_instance.get_value(\"land_surface_water__runoff_volume_flux\")\n",
    "    observation_no_noise.append(obs)\n",
    "    \n",
    "cfe_instance.finalize()\n",
    "\n",
    "perturbation_factor_obs = np.random.standard_normal(size=None)\n",
    "error_factor_obs = 0.15\n",
    "observation_no_noise = np.array(observation_no_noise)       \n",
    "observation_noisy = (perturbation_factor_obs * observation_no_noise * error_factor_obs) + observation_no_noise\n",
    "\n",
    "\n"
   ]
  },
  {
   "cell_type": "code",
   "execution_count": null,
   "id": "4871177c-87e2-43d2-8e0f-291e55777ae5",
   "metadata": {
    "tags": []
   },
   "outputs": [],
   "source": [
    "######Synthetic loop\n",
    "\n",
    "cfe_purturb_instance.initialize()\n",
    "cfe_instance.initialize()\n",
    "\n",
    "\n",
    "with open(cfe_purturb_instance.forcing_file, 'r') as f:\n",
    "    df_forcing = pd.read_csv(f)\n",
    "\n",
    "\n",
    "da_simulations_all = []\n",
    "da_simulations_all_mean = []\n",
    "state_variables_all = []\n",
    "state_variables_all_mean = []\n",
    "simulations_all = []\n",
    "observations_all = []\n",
    "updated_state_all = []\n",
    "updated_simulations_all = []\n",
    "gw_state_all = []\n",
    "gw_state_all_mean = []\n",
    "updated_gw_state_all = []\n",
    "\n",
    "\n",
    "for t, precip in enumerate(df_forcing['APCP_surface']):\n",
    "    \n",
    "    cfe_purturb_instance.set_value('atmosphere_water__time_integral_of_precipitation_mass_flux', precip)\n",
    "    cfe_purturb_instance.set_value('water_potential_evaporation_flux', pet[t])\n",
    "    cfe_purturb_instance.update()\n",
    "    simulations = cfe_purturb_instance.get_value(\"land_surface_water__runoff_volume_flux\")\n",
    "    simulations = np.array(list(simulations.values()))\n",
    "    da_simulations_all.append(simulations)\n",
    "    mean_simulations = np.mean(simulations)\n",
    "    da_simulations_all_mean.append(mean_simulations)\n",
    "    \n",
    "    state_variables = cfe_purturb_instance.get_value(\"SOIL_CONCEPTUAL_STORAGE\")\n",
    "    state_variablesssss = np.array(list(state_variables))\n",
    "    state_variables_all.append(state_variables)\n",
    "    state_variables_mean = np.mean(state_variablesssss)\n",
    "    state_variables_all_mean.append(state_variables_mean)\n",
    "    \n",
    "    gw_state = cfe_purturb_instance.get_value(\"DEEP_GW_TO_CHANNEL_FLUX\")\n",
    "    gw_statesssss = np.array(list(gw_state))\n",
    "    gw_state_all.append(gw_state)\n",
    "    gw_state_mean = np.mean(gw_statesssss)\n",
    "    gw_state_all_mean.append(gw_state_mean)\n",
    "    \n",
    "\n",
    "    Flow = observation_noisy[t]\n",
    "    observations_all.append(Flow)\n",
    "    \n",
    "    enkf_instance.set_value('Observations', Flow) \n",
    "    enkf_instance.set_value('Simulations', simulations)\n",
    "    enkf_instance.set_value('State Variables', state_variables)\n",
    "    enkf_instance.update()\n",
    "    updated_state_sm = enkf_instance.get_value(\"state_estimates\")\n",
    "    updated_state_all.append(updated_state_sm)\n",
    "    updated_state_sm = updated_state_sm[0]\n",
    "    \n",
    "    enkf_instance.finalize()\n",
    "    cfe_instance.initialize()\n",
    "    print(simulations)\n",
    "\n",
    "    enkf_instance.set_value('Observations', Flow) \n",
    "    enkf_instance.set_value('Simulations', simulations)\n",
    "    enkf_instance.set_value('State Variables', gw_state)\n",
    "    enkf_instance.update()\n",
    "    updated_state_gw = enkf_instance.get_value(\"state_estimates\")\n",
    "    updated_gw_state_all.append(updated_state_gw)\n",
    "    updated_state_gw = updated_state_gw[0]\n",
    "    \n",
    "    enkf_instance.finalize()\n",
    "    cfe_instance.initialize()\n",
    "\n",
    "    cfe_instance.set_value('atmosphere_water__time_integral_of_precipitation_mass_flux', precip)\n",
    "    cfe_instance.set_value('water_potential_evaporation_flux', pet[t])\n",
    "    cfe_instance.set_value('SOIL_CONCEPTUAL_STORAGE', updated_state_sm)\n",
    "    cfe_instance.set_value('DEEP_GW_TO_CHANNEL_FLUX', updated_state_gw)\n",
    "    cfe_instance.update()\n",
    "    simulation_updated = cfe_instance.get_value(\"land_surface_water__runoff_volume_flux\")\n",
    "    updated_simulations_all.append(simulation_updated)\n",
    "    \n",
    "    list_of_states_sm = [updated_state_sm] * 100\n",
    "    cfe_purturb_instance.set_value('SOIL_CONCEPTUAL_STORAGE', list_of_states_sm)\n",
    "    \n",
    "    \n",
    "    list_of_states_gw = [updated_state_gw] * 100\n",
    "    cfe_purturb_instance.set_value('DEEP_GW_TO_CHANNEL_FLUX', list_of_states_gw)\n",
    "    \n",
    "cfe_instance.finalize()\n",
    "cfe_purturb_instance.finalize()\n",
    "enkf_instance.finalize()\n",
    "\n"
   ]
  },
  {
   "cell_type": "code",
   "execution_count": null,
   "id": "09a592a0-bd71-4eee-855d-656383b88eb0",
   "metadata": {},
   "outputs": [],
   "source": []
  },
  {
   "cell_type": "code",
   "execution_count": null,
   "id": "920b7542-4ddd-49fe-9f2c-9027e9f181a5",
   "metadata": {},
   "outputs": [],
   "source": []
  }
 ],
 "metadata": {
  "kernelspec": {
   "display_name": "Python 3 (ipykernel)",
   "language": "python",
   "name": "python3"
  },
  "language_info": {
   "codemirror_mode": {
    "name": "ipython",
    "version": 3
   },
   "file_extension": ".py",
   "mimetype": "text/x-python",
   "name": "python",
   "nbconvert_exporter": "python",
   "pygments_lexer": "ipython3",
   "version": "3.9.16"
  }
 },
 "nbformat": 4,
 "nbformat_minor": 5
}
