{
 "cells": [
  {
   "cell_type": "code",
   "execution_count": 1,
   "id": "f427a76a-1a1f-4ef1-988a-341c5c2c1dd3",
   "metadata": {
    "tags": []
   },
   "outputs": [],
   "source": [
    "#! pip install dataretrieval\n",
    "#! pip install bmipy\n",
    "#! pip install eto\n",
    "import sys \n",
    "import time\n",
    "import numpy as np\n",
    "import pandas as pd\n",
    "import json\n",
    "import matplotlib.pyplot as plt\n",
    "from scipy.stats import kstest\n",
    "import bmi_cfe_perturb_ens\n",
    "import new_bmi_EnKF as bmi_EnKF\n",
    "import bmi_cfe\n",
    "import bmi_PET\n",
    "import bmi_usgs\n",
    "from fao_pet import ETRCalculator"
   ]
  },
  {
   "cell_type": "code",
   "execution_count": 2,
   "id": "aa58bc00-2eb2-46dc-978a-6536d40fbca9",
   "metadata": {
    "tags": []
   },
   "outputs": [],
   "source": [
    "#######run pet and get values\n",
    "pet_instance = bmi_PET.BMI_pet_model()\n",
    "pet_instance.initialize(cfg_file='./pet.json', current_time_step=1)\n",
    "pet_instance.update()\n",
    "pet_instance.finalize()\n",
    "pet = pet_instance.get_value('etr').values"
   ]
  },
  {
   "cell_type": "code",
   "execution_count": null,
   "id": "d0ce7fb2-b8ad-4bef-b467-e56f679a8c38",
   "metadata": {},
   "outputs": [],
   "source": [
    "#######run usgs and get values\n",
    "pet_instance = bmi_PET.BMI_pet_model()\n",
    "pet_instance.initialize(cfg_file='./pet.json', current_time_step=1)\n",
    "pet_instance.update()\n",
    "pet_instance.finalize()\n",
    "pet = pet_instance.get_value('etr').values"
   ]
  }
 ],
 "metadata": {
  "kernelspec": {
   "display_name": "Python 3 (ipykernel)",
   "language": "python",
   "name": "python3"
  },
  "language_info": {
   "codemirror_mode": {
    "name": "ipython",
    "version": 3
   },
   "file_extension": ".py",
   "mimetype": "text/x-python",
   "name": "python",
   "nbconvert_exporter": "python",
   "pygments_lexer": "ipython3",
   "version": "3.9.16"
  }
 },
 "nbformat": 4,
 "nbformat_minor": 5
}
