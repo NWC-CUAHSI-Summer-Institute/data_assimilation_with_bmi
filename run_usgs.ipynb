{
 "cells": [
  {
   "cell_type": "code",
   "execution_count": 5,
   "id": "ee2a1873-23fa-42ec-b2ec-ef057d53943c",
   "metadata": {
    "tags": []
   },
   "outputs": [],
   "source": [
    "#import dataretrieval.nwis as nwis\n",
    "import time\n",
    "import numpy as np\n",
    "import pandas as pd\n",
    "import json\n",
    "import matplotlib.pyplot as plt\n",
    "import bmi_usgs\n",
    "from usgs import USGS"
   ]
  },
  {
   "cell_type": "code",
   "execution_count": 7,
   "id": "a5942f49-498e-4997-a61a-6e003765d4a8",
   "metadata": {
    "tags": []
   },
   "outputs": [],
   "source": [
    "# class U:\n",
    "#     def __init__(self, dictionary):\n",
    "#         for key, value in dictionary.items():\n",
    "#             setattr(self, key, value)\n",
    "\n",
    "# u = U({'sites' : \"05427948\", 'start' :  \"2018-10-01\", 'end' : \"2018-09-30\"})"
   ]
  },
  {
   "cell_type": "code",
   "execution_count": 13,
   "id": "e75aa162-22de-49d2-885b-aa8bcb921e0b",
   "metadata": {
    "tags": []
   },
   "outputs": [],
   "source": [
    "#bmi_usgs instance \n",
    "usgs_instance = bmi_usgs.BMI_USGS()# "
   ]
  },
  {
   "cell_type": "code",
   "execution_count": 14,
   "id": "e7c5103e-fd66-4e2b-846e-cdd342ae8269",
   "metadata": {
    "tags": []
   },
   "outputs": [],
   "source": [
    "#initialization\n",
    "usgs_instance.initialize(cfg_file='./usgs_config.json', current_time_step=1) #"
   ]
  },
  {
   "cell_type": "code",
   "execution_count": 15,
   "id": "80babb30-1944-419b-890d-115837879ac4",
   "metadata": {
    "tags": []
   },
   "outputs": [
    {
     "name": "stdout",
     "output_type": "stream",
     "text": [
      "{'Flow': [], 'validity': []}\n"
     ]
    }
   ],
   "source": [
    "#view output\n",
    "outputs=usgs_instance.get_output_var_names()\n",
    "output_lists = {output:[] for output in outputs}\n",
    "print(output_lists)"
   ]
  },
  {
   "cell_type": "code",
   "execution_count": 16,
   "id": "2fc6a2e7-f06e-44a9-a7bd-e32ab21a2422",
   "metadata": {
    "tags": []
   },
   "outputs": [],
   "source": [
    "# to conduct iv retrieval  from the framework activate this\n",
    "#usgs_instance.set_value('sites','01054500')\n",
    "#usgs_instance.set_value('start','2018-01-01')\n",
    "#usgs_instance.set_value('end','2018-02-01')"
   ]
  },
  {
   "cell_type": "code",
   "execution_count": 17,
   "id": "e6d2e50f-12f8-4bc7-935b-96d5bf5a10c0",
   "metadata": {
    "tags": []
   },
   "outputs": [],
   "source": [
    "# #activate this to see if inputs from the framework are read by the BMI\n",
    "# print (usgs_instance.get_value('sites'))\n",
    "# print (usgs_instance.get_value('service'))\n",
    "# print (usgs_instance.get_value('start'))"
   ]
  },
  {
   "cell_type": "code",
   "execution_count": 18,
   "id": "9019f837-d7fc-4bea-b8b8-504302abc59a",
   "metadata": {
    "tags": []
   },
   "outputs": [
    {
     "data": {
      "text/plain": [
       "<bmi_usgs.BMI_USGS at 0x7f31ffca6b20>"
      ]
     },
     "execution_count": 18,
     "metadata": {},
     "output_type": "execute_result"
    }
   ],
   "source": [
    "usgs_instance"
   ]
  },
  {
   "cell_type": "code",
   "execution_count": 19,
   "id": "a63e69c7-089a-4c7b-a541-73810a7f8f60",
   "metadata": {
    "tags": []
   },
   "outputs": [],
   "source": [
    "#run once\n",
    "usgs_instance.update()"
   ]
  },
  {
   "cell_type": "code",
   "execution_count": 20,
   "id": "a0847c3c-4870-4969-9f90-9ef79e14adbe",
   "metadata": {
    "tags": []
   },
   "outputs": [],
   "source": [
    "####################################################################################\n"
   ]
  },
  {
   "cell_type": "code",
   "execution_count": 21,
   "id": "182cde5b-ed97-43c7-aacc-01e36e657419",
   "metadata": {
    "tags": []
   },
   "outputs": [
    {
     "name": "stdout",
     "output_type": "stream",
     "text": [
      "\n",
      " USGS observed flow for station  01123000 is retrieved!\n",
      "\n"
     ]
    }
   ],
   "source": [
    "usgs_instance.finalize(print_flow=True)"
   ]
  },
  {
   "cell_type": "code",
   "execution_count": 22,
   "id": "91511459-bd3b-4c32-a476-6c57b5d669f7",
   "metadata": {
    "tags": []
   },
   "outputs": [
    {
     "data": {
      "text/plain": [
       "0      1.0\n",
       "1      1.0\n",
       "2      1.0\n",
       "3      1.0\n",
       "4      1.0\n",
       "      ... \n",
       "763    1.0\n",
       "764    1.0\n",
       "765    1.0\n",
       "766    1.0\n",
       "767    1.0\n",
       "Name: validity, Length: 768, dtype: float64"
      ]
     },
     "execution_count": 22,
     "metadata": {},
     "output_type": "execute_result"
    }
   ],
   "source": [
    "usgs_instance.get_value('validity')"
   ]
  },
  {
   "cell_type": "code",
   "execution_count": 23,
   "id": "cf450631-3075-4920-826f-d80d41acad20",
   "metadata": {
    "tags": []
   },
   "outputs": [
    {
     "data": {
      "text/plain": [
       "0      166.500\n",
       "1      161.000\n",
       "2      156.750\n",
       "3      151.500\n",
       "4      148.750\n",
       "        ...   \n",
       "763     28.400\n",
       "764     28.175\n",
       "765     28.400\n",
       "766     27.500\n",
       "767     27.500\n",
       "Name: Flow, Length: 768, dtype: float64"
      ]
     },
     "execution_count": 23,
     "metadata": {},
     "output_type": "execute_result"
    }
   ],
   "source": [
    "usgs_instance.get_value('Flow')"
   ]
  },
  {
   "cell_type": "code",
   "execution_count": 24,
   "id": "232ebb1b-b3c9-4da4-89ae-a26f6bdb0e76",
   "metadata": {},
   "outputs": [
    {
     "data": {
      "text/plain": [
       "[<matplotlib.lines.Line2D at 0x7f31f7dd16a0>]"
      ]
     },
     "execution_count": 24,
     "metadata": {},
     "output_type": "execute_result"
    },
    {
     "data": {
      "image/png": "[encoded data removed]",
      "text/plain": [
       "<Figure size 640x480 with 1 Axes>"
      ]
     },
     "metadata": {},
     "output_type": "display_data"
    }
   ],
   "source": [
    "plt.plot(usgs_instance.get_value('Flow'))"
   ]
  },
  {
   "cell_type": "code",
   "execution_count": null,
   "id": "f671e274-8550-4d5b-8dfd-c439f255805e",
   "metadata": {},
   "outputs": [],
   "source": []
  }
 ],
 "metadata": {
  "kernelspec": {
   "display_name": "Python [conda env:root] *",
   "language": "python",
   "name": "conda-root-py"
  },
  "language_info": {
   "codemirror_mode": {
    "name": "ipython",
    "version": 3
   },
   "file_extension": ".py",
   "mimetype": "text/x-python",
   "name": "python",
   "nbconvert_exporter": "python",
   "pygments_lexer": "ipython3",
   "version": "3.9.16"
  }
 },
 "nbformat": 4,
 "nbformat_minor": 5
}
