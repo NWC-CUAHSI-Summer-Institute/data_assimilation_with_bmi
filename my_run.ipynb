{
 "cells": [
  {
   "cell_type": "code",
   "execution_count": 1,
   "id": "c120e9fa-1dd8-43b5-bfd3-ddbe05a14859",
   "metadata": {
    "tags": []
   },
   "outputs": [],
   "source": [
    "#! pip install dataretrieval\n",
    "#! pip install bmipy\n",
    "import sys \n",
    "import time\n",
    "import numpy as np\n",
    "import pandas as pd\n",
    "import json\n",
    "import matplotlib.pyplot as plt\n",
    "import bmi_cfe_perturb_ens\n",
    "import bmi_usgs\n",
    "from usgs import USGS\n",
    "import new_bmi_EnKF as bmi_EnKF\n",
    "import bmi_cfe"
   ]
  },
  {
   "cell_type": "code",
   "execution_count": 2,
   "id": "daaa4d9e-dde4-47e3-8acd-a2b3dcafb7a9",
   "metadata": {
    "tags": []
   },
   "outputs": [],
   "source": [
    "usgs_instance = bmi_usgs.BMI_USGS()\n",
    "enkf_instance = bmi_EnKF.BMIEnKF('./input_enkf_new.json')\n",
    "cfe_purturb_instance = bmi_cfe_perturb_ens.BMI_CFE('./new_cfe_perturb.json')\n",
    "cfe_instance = bmi_cfe.BMI_CFE('./new_cfe.json')"
   ]
  },
  {
   "cell_type": "code",
   "execution_count": 3,
   "id": "e4b4fdd6-56d7-4e39-b2ff-5bccd76e76b4",
   "metadata": {
    "tags": []
   },
   "outputs": [],
   "source": [
    "#initialization\n",
    "cfe_purturb_instance.initialize()\n",
    "cfe_instance.initialize()\n",
    "enkf_instance.initialize()\n",
    "usgs_instance.initialize(cfg_file='usgs_config.json', current_time_step=1)"
   ]
  },
  {
   "cell_type": "code",
   "execution_count": 4,
   "id": "028b6fad-8654-42d3-a1ab-1b8899ed1352",
   "metadata": {},
   "outputs": [
    {
     "name": "stdout",
     "output_type": "stream",
     "text": [
      "CFE Perturbed code inputs are: {'atmosphere_water__time_integral_of_precipitation_mass_flux': {}, 'water_potential_evaporation_flux': {}}\n",
      "CFE code inputs are: {'atmosphere_water__time_integral_of_precipitation_mass_flux': {}, 'water_potential_evaporation_flux': {}}\n",
      "EnKF code inputs are: {'Observations': {}, 'Simulations': {}, 'State Variables': {}}\n",
      "USGS code inputs are: {'sites': {}, 'start': {}, 'end': {}}\n",
      "CFE Perturbed code outputs are: {'land_surface_water__runoff_depth': {}, 'land_surface_water__runoff_volume_flux': {}, 'DIRECT_RUNOFF': {}, 'GIUH_RUNOFF': {}, 'NASH_LATERAL_RUNOFF': {}, 'DEEP_GW_TO_CHANNEL_FLUX': {}, 'SOIL_CONCEPTUAL_STORAGE': {}, 'atmosphere_water__time_integral_of_precipitation_mass_flux': {}}\n",
      "CFE code outputs are: {'land_surface_water__runoff_depth': {}, 'land_surface_water__runoff_volume_flux': {}, 'DIRECT_RUNOFF': {}, 'GIUH_RUNOFF': {}, 'NASH_LATERAL_RUNOFF': {}, 'DEEP_GW_TO_CHANNEL_FLUX': {}, 'SOIL_CONCEPTUAL_STORAGE': {}}\n",
      "EnKF code outputs are: {'state_estimates': {}, 'covariance_matrices': {}}\n",
      "USGS code outputs are: {'Flow': {}, 'validity': {}}\n"
     ]
    }
   ],
   "source": [
    "with open(cfe_purturb_instance.forcing_file, 'r') as f:\n",
    "    df_forcing = pd.read_csv(f)\n",
    "    \n",
    "\n",
    "\n",
    "cfe_purturb_inputs = cfe_purturb_instance.get_input_var_names()\n",
    "input_lists_cfe_purturb = {inputs:{ens:[] for ens in range(0)} for inputs in cfe_purturb_inputs}\n",
    "print(\"CFE Perturbed code inputs are:\", input_lists_cfe_purturb)\n",
    "\n",
    "cfe_inputs = cfe_instance.get_input_var_names()\n",
    "input_lists_cfe = {inputs:{ens:[] for ens in range(0)} for inputs in cfe_inputs}\n",
    "print(\"CFE code inputs are:\", input_lists_cfe)\n",
    "\n",
    "enkf_inputs = enkf_instance.get_input_var_names()\n",
    "input_lists_enkf = {inputs:{ens:[] for ens in range(0)} for inputs in enkf_inputs}\n",
    "print(\"EnKF code inputs are:\", input_lists_enkf)\n",
    "\n",
    "usgs_inputs = usgs_instance.get_input_var_names()\n",
    "input_lists_usgs = {inputs:{ens:[] for ens in range(0)} for inputs in usgs_inputs}\n",
    "print(\"USGS code inputs are:\", input_lists_usgs)\n",
    "\n",
    "\n",
    "cfe_purturb_outputs = cfe_purturb_instance.get_output_var_names()\n",
    "output_lists_cfe_purturb = {output:{ens:[] for ens in range(0)} for output in cfe_purturb_outputs}\n",
    "print(\"CFE Perturbed code outputs are:\", output_lists_cfe_purturb)\n",
    "\n",
    "\n",
    "\n",
    "cfe_outputs = cfe_instance.get_output_var_names()\n",
    "output_lists_cfe = {output:{ens:[] for ens in range(0)} for output in cfe_outputs}\n",
    "print(\"CFE code outputs are:\", output_lists_cfe)\n",
    "\n",
    "enkf_outputs = enkf_instance.get_output_var_names()\n",
    "output_lists_enkf = {output:{ens:[] for ens in range(0)} for output in enkf_outputs}\n",
    "print(\"EnKF code outputs are:\", output_lists_enkf)\n",
    "\n",
    "usgs_outputs = usgs_instance.get_output_var_names()\n",
    "output_lists_usgs = {output:{ens:[] for ens in range(0)} for output in usgs_outputs}\n",
    "print(\"USGS code outputs are:\", output_lists_usgs)\n"
   ]
  },
  {
   "cell_type": "code",
   "execution_count": 5,
   "id": "15bc037e-1d3f-4d00-9e57-528d5303b126",
   "metadata": {
    "tags": []
   },
   "outputs": [],
   "source": [
    "cfe_purturb_outputs = cfe_purturb_instance.get_output_var_names()\n",
    "output_lists_cfe_purturb = {output:{ens:[] for ens in range(cfe_purturb_instance.n_cfe_ensembles)} for output in cfe_outputs}\n",
    "\n",
    "cfe_outputs = cfe_instance.get_output_var_names()\n",
    "output_lists_cfe = {output:{ens:[] for ens in range(cfe_purturb_instance.n_cfe_ensembles)} for output in cfe_outputs}\n",
    "\n",
    "enkf_outputs = enkf_instance.get_output_var_names()\n",
    "output_lists_enkf = {output:{ens:[] for ens in range(cfe_purturb_instance.n_cfe_ensembles)} for output in enkf_outputs}\n",
    "\n",
    "usgs_outputs = usgs_instance.get_output_var_names()\n",
    "output_lists_usgs = {output:{ens:[] for ens in range(cfe_purturb_instance.n_cfe_ensembles)} for output in usgs_outputs}"
   ]
  },
  {
   "cell_type": "code",
   "execution_count": 6,
   "id": "3452dd5a-e7af-44eb-b439-5572bb95c789",
   "metadata": {
    "tags": []
   },
   "outputs": [
    {
     "data": {
      "text/plain": [
       "(768,)"
      ]
     },
     "execution_count": 6,
     "metadata": {},
     "output_type": "execute_result"
    }
   ],
   "source": [
    "usgs_instance.update()\n",
    "Flow = usgs_instance.get_value(\"Flow\")\n",
    "Flow.shape"
   ]
  },
  {
   "cell_type": "code",
   "execution_count": 7,
   "id": "806d0dd0-4681-4c76-98d7-a753309c6dc6",
   "metadata": {
    "tags": []
   },
   "outputs": [
    {
     "name": "stdout",
     "output_type": "stream",
     "text": [
      "WARNING: Groundwater flux larger than storage. \n",
      "\n",
      "WARNING: Groundwater flux larger than storage. \n",
      "\n",
      "WARNING: Groundwater flux larger than storage. \n",
      "\n",
      "WARNING: Groundwater flux larger than storage. \n",
      "\n",
      "WARNING: Groundwater flux larger than storage. \n",
      "\n",
      "WARNING: Groundwater flux larger than storage. \n",
      "\n",
      "WARNING: Groundwater flux larger than storage. \n",
      "\n",
      "WARNING: Groundwater flux larger than storage. \n",
      "\n",
      "WARNING: Groundwater flux larger than storage. \n",
      "\n",
      "WARNING: Groundwater flux larger than storage. \n",
      "\n",
      "WARNING: Groundwater flux larger than storage. \n",
      "\n",
      "WARNING: Groundwater flux larger than storage. \n",
      "\n",
      "WARNING: Groundwater flux larger than storage. \n",
      "\n",
      "WARNING: Groundwater flux larger than storage. \n",
      "\n",
      "WARNING: Groundwater flux larger than storage. \n",
      "\n",
      "WARNING: Groundwater flux larger than storage. \n",
      "\n",
      "WARNING: Groundwater flux larger than storage. \n",
      "\n",
      "WARNING: Groundwater flux larger than storage. \n",
      "\n",
      "WARNING: Groundwater flux larger than storage. \n",
      "\n",
      "WARNING: Groundwater flux larger than storage. \n",
      "\n",
      "WARNING: Groundwater flux larger than storage. \n",
      "\n",
      "WARNING: Groundwater flux larger than storage. \n",
      "\n",
      "WARNING: Groundwater flux larger than storage. \n",
      "\n",
      "WARNING: Groundwater flux larger than storage. \n",
      "\n",
      "WARNING: Groundwater flux larger than storage. \n",
      "\n",
      "WARNING: Groundwater flux larger than storage. \n",
      "\n",
      "WARNING: Groundwater flux larger than storage. \n",
      "\n",
      "WARNING: Groundwater flux larger than storage. \n",
      "\n",
      "WARNING: Groundwater flux larger than storage. \n",
      "\n",
      "WARNING: Groundwater flux larger than storage. \n",
      "\n",
      "WARNING: Groundwater flux larger than storage. \n",
      "\n",
      "WARNING: Groundwater flux larger than storage. \n",
      "\n",
      "WARNING: Groundwater flux larger than storage. \n",
      "\n",
      "WARNING: Groundwater flux larger than storage. \n",
      "\n",
      "WARNING: Groundwater flux larger than storage. \n",
      "\n",
      "WARNING: Groundwater flux larger than storage. \n",
      "\n",
      "WARNING: Groundwater flux larger than storage. \n",
      "\n",
      "WARNING: Groundwater flux larger than storage. \n",
      "\n",
      "WARNING: Groundwater flux larger than storage. \n",
      "\n",
      "WARNING: Groundwater flux larger than storage. \n",
      "\n",
      "WARNING: Groundwater flux larger than storage. \n",
      "\n",
      "WARNING: Groundwater flux larger than storage. \n",
      "\n",
      "WARNING: Groundwater flux larger than storage. \n",
      "\n",
      "WARNING: Groundwater flux larger than storage. \n",
      "\n",
      "WARNING: Groundwater flux larger than storage. \n",
      "\n",
      "WARNING: Groundwater flux larger than storage. \n",
      "\n",
      "WARNING: Groundwater flux larger than storage. \n",
      "\n",
      "WARNING: Groundwater flux larger than storage. \n",
      "\n",
      "WARNING: Groundwater flux larger than storage. \n",
      "\n",
      "WARNING: Groundwater flux larger than storage. \n",
      "\n",
      "WARNING: Groundwater flux larger than storage. \n",
      "\n",
      "WARNING: Groundwater flux larger than storage. \n",
      "\n",
      "WARNING: Groundwater flux larger than storage. \n",
      "\n",
      "WARNING: Groundwater flux larger than storage. \n",
      "\n",
      "WARNING: Groundwater flux larger than storage. \n",
      "\n",
      "WARNING: Groundwater flux larger than storage. \n",
      "\n",
      "WARNING: Groundwater flux larger than storage. \n",
      "\n",
      "WARNING: Groundwater flux larger than storage. \n",
      "\n",
      "WARNING: Groundwater flux larger than storage. \n",
      "\n",
      "WARNING: Groundwater flux larger than storage. \n",
      "\n",
      "WARNING: Groundwater flux larger than storage. \n",
      "\n",
      "WARNING: Groundwater flux larger than storage. \n",
      "\n",
      "WARNING: Groundwater flux larger than storage. \n",
      "\n",
      "WARNING: Groundwater flux larger than storage. \n",
      "\n",
      "WARNING: Groundwater flux larger than storage. \n",
      "\n",
      "WARNING: Groundwater flux larger than storage. \n",
      "\n",
      "WARNING: Groundwater flux larger than storage. \n",
      "\n",
      "WARNING: Groundwater flux larger than storage. \n",
      "\n",
      "WARNING: Groundwater flux larger than storage. \n",
      "\n",
      "WARNING: Groundwater flux larger than storage. \n",
      "\n",
      "WARNING: Groundwater flux larger than storage. \n",
      "\n",
      "WARNING: Groundwater flux larger than storage. \n",
      "\n",
      "WARNING: Groundwater flux larger than storage. \n",
      "\n",
      "WARNING: Groundwater flux larger than storage. \n",
      "\n",
      "WARNING: Groundwater flux larger than storage. \n",
      "\n",
      "WARNING: Groundwater flux larger than storage. \n",
      "\n",
      "WARNING: Groundwater flux larger than storage. \n",
      "\n",
      "WARNING: Groundwater flux larger than storage. \n",
      "\n",
      "WARNING: Groundwater flux larger than storage. \n",
      "\n",
      "WARNING: Groundwater flux larger than storage. \n",
      "\n",
      "WARNING: Groundwater flux larger than storage. \n",
      "\n",
      "WARNING: Groundwater flux larger than storage. \n",
      "\n",
      "WARNING: Groundwater flux larger than storage. \n",
      "\n",
      "WARNING: Groundwater flux larger than storage. \n",
      "\n",
      "WARNING: Groundwater flux larger than storage. \n",
      "\n",
      "WARNING: Groundwater flux larger than storage. \n",
      "\n",
      "WARNING: Groundwater flux larger than storage. \n",
      "\n",
      "WARNING: Groundwater flux larger than storage. \n",
      "\n",
      "WARNING: Groundwater flux larger than storage. \n",
      "\n",
      "WARNING: Groundwater flux larger than storage. \n",
      "\n",
      "WARNING: Groundwater flux larger than storage. \n",
      "\n",
      "WARNING: Groundwater flux larger than storage. \n",
      "\n",
      "WARNING: Groundwater flux larger than storage. \n",
      "\n",
      "WARNING: Groundwater flux larger than storage. \n",
      "\n",
      "WARNING: Groundwater flux larger than storage. \n",
      "\n",
      "WARNING: Groundwater flux larger than storage. \n",
      "\n",
      "WARNING: Groundwater flux larger than storage. \n",
      "\n",
      "WARNING: Groundwater flux larger than storage. \n",
      "\n",
      "WARNING: Groundwater flux larger than storage. \n",
      "\n",
      "WARNING: Groundwater flux larger than storage. \n",
      "\n"
     ]
    }
   ],
   "source": [
    "updated_simulations_all = []\n",
    "state_variables_all = []\n",
    "simulations_all = []\n",
    "observations_all = []\n",
    "updated_state_all = []\n",
    "\n",
    "for t, precip in enumerate(df_forcing['APCP_surface']):\n",
    "    \n",
    "    cfe_purturb_instance.set_value('atmosphere_water__time_integral_of_precipitation_mass_flux', precip)\n",
    "    cfe_purturb_instance.update()\n",
    "    \n",
    "    simulations = cfe_purturb_instance.get_value(\"land_surface_water__runoff_volume_flux\")\n",
    "    simulations = np.array(list(simulations.values()))\n",
    "    simulations_all.append(simulations)\n",
    "    \n",
    "    state_variables = cfe_purturb_instance.get_value(\"SOIL_CONCEPTUAL_STORAGE\")\n",
    "    #state_variables = np.array(list(state_variables.values()))\n",
    "    state_variables_all.append(state_variables)\n",
    "    usgs_instance.update()\n",
    "    Flow = usgs_instance.get_value(\"Flow\")[t]\n",
    "    #Flow = Flow * 0.0283168466 * 3600\n",
    "    observations_all.append(Flow)\n",
    "    \n",
    "    enkf_instance.set_value('Observations', Flow) \n",
    "    enkf_instance.set_value('Simulations', simulations)\n",
    "    enkf_instance.set_value('State Variables', state_variables)\n",
    "    enkf_instance.update()\n",
    "    updated_state = enkf_instance.get_value(\"state_estimates\")\n",
    "    updated_state_all.append(updated_state)\n",
    "    \n",
    "    cfe_instance.set_value('atmosphere_water__time_integral_of_precipitation_mass_flux', precip)\n",
    "    cfe_instance.set_value('SOIL_CONCEPTUAL_STORAGE', updated_state)\n",
    "    cfe_instance.update()\n",
    "    simulation_updated = cfe_instance.get_value(\"land_surface_water__runoff_volume_flux\")\n",
    "    updated_simulations_all.append(simulation_updated)\n",
    "    \n",
    "    nested_states = state_variables[0]\n",
    "    list_of_states = [nested_states] * 100\n",
    "    cfe_purturb_instance.set_value('SOIL_CONCEPTUAL_STORAGE', list_of_states)\n",
    "    #cfe_purturb_instance.finalize()\n",
    "    "
   ]
  },
  {
   "cell_type": "code",
   "execution_count": 8,
   "id": "0ad7edfa-b50a-442a-90ec-ee2c264b10d9",
   "metadata": {
    "tags": []
   },
   "outputs": [],
   "source": [
    "bare_cfe_all = []\n",
    "for t, precip in enumerate(df_forcing['APCP_surface']):\n",
    "    cfe_instance.initialize()\n",
    "    cfe_instance.set_value('atmosphere_water__time_integral_of_precipitation_mass_flux', precip)\n",
    "    cfe_instance.update()\n",
    "    CFE = cfe_instance.get_value(\"land_surface_water__runoff_volume_flux\")\n",
    "    bare_cfe_all.append(CFE)"
   ]
  },
  {
   "cell_type": "code",
   "execution_count": 9,
   "id": "fc43f27d-dcf8-4b0c-a20b-45ff9f9fc132",
   "metadata": {
    "tags": []
   },
   "outputs": [
    {
     "data": {
      "text/plain": [
       "[<matplotlib.lines.Line2D at 0x7f145baedfa0>]"
      ]
     },
     "execution_count": 9,
     "metadata": {},
     "output_type": "execute_result"
    },
    {
     "data": {
      "image/png": "[encoded data removed]",
      "text/plain": [
       "<Figure size 640x480 with 1 Axes>"
      ]
     },
     "metadata": {},
     "output_type": "display_data"
    }
   ],
   "source": [
    "plt.plot(observations_all, color='blue', label='Observations')\n",
    "#plt.plot(updated_simulations_all, color='green', label='For ourselves')\n",
    "plt.plot(np.mean(simulations_all, axis = 1), color='crimson', label='DA-CFE')\n",
    "plt.plot(bare_cfe_all, color='pink', label='CFE')\n"
   ]
  },
  {
   "cell_type": "code",
   "execution_count": null,
   "id": "d19fa7b2-177f-4725-9c0f-ddc3733efa79",
   "metadata": {},
   "outputs": [],
   "source": [
    "np.shape(simulations_all)"
   ]
  },
  {
   "cell_type": "code",
   "execution_count": null,
   "id": "194f7a31-b654-476c-b161-28c601353cf1",
   "metadata": {},
   "outputs": [],
   "source": [
    "print(simulations_all)"
   ]
  },
  {
   "cell_type": "code",
   "execution_count": null,
   "id": "2cc4c975-ac3b-4a0a-b879-1ece1e4494a6",
   "metadata": {},
   "outputs": [],
   "source": [
    "updated_simulations_all = []\n",
    "state_variables_all = []\n",
    "simulations_all = []\n",
    "observations_all = []\n",
    "updated_state_all = []\n",
    "\n",
    "for t, precip in enumerate(df_forcing['APCP_surface']):\n",
    "    if t == 0:\n",
    "        nested_states = np.array(10)\n",
    "        list_of_states = [nested_states] * 100\n",
    "    \n",
    "        cfe_purturb_instance.set_value('atmosphere_water__time_integral_of_precipitation_mass_flux', precip)\n",
    "        cfe_purturb_instance.set_value('SOIL_CONCEPTUAL_STORAGE', list_of_states)\n",
    "        cfe_purturb_instance.update()\n",
    "    \n",
    "        simulations = cfe_purturb_instance.get_value(\"land_surface_water__runoff_volume_flux\")\n",
    "        simulations = np.array(list(simulations.values()))\n",
    "        simulations_all.append(simulations)"
   ]
  },
  {
   "cell_type": "code",
   "execution_count": null,
   "id": "19f1759b-60c5-47ee-8672-a8112a816907",
   "metadata": {
    "tags": []
   },
   "outputs": [],
   "source": [
    "print(np.mean(simulations_all, axis = 0))"
   ]
  },
  {
   "cell_type": "code",
   "execution_count": null,
   "id": "ca7a2e2a-a47a-4d56-9acc-28c5f3b3ffde",
   "metadata": {},
   "outputs": [],
   "source": []
  }
 ],
 "metadata": {
  "kernelspec": {
   "display_name": "Python [conda env:root] *",
   "language": "python",
   "name": "conda-root-py"
  },
  "language_info": {
   "codemirror_mode": {
    "name": "ipython",
    "version": 3
   },
   "file_extension": ".py",
   "mimetype": "text/x-python",
   "name": "python",
   "nbconvert_exporter": "python",
   "pygments_lexer": "ipython3",
   "version": "3.9.16"
  }
 },
 "nbformat": 4,
 "nbformat_minor": 5
}
